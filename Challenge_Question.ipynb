{
  "nbformat": 4,
  "nbformat_minor": 0,
  "metadata": {
    "colab": {
      "provenance": [],
      "authorship_tag": "ABX9TyMjl5RWXF6pj6RFRupzMkFv",
      "include_colab_link": true
    },
    "kernelspec": {
      "name": "python3",
      "display_name": "Python 3"
    },
    "language_info": {
      "name": "python"
    }
  },
  "cells": [
    {
      "cell_type": "markdown",
      "metadata": {
        "id": "view-in-github",
        "colab_type": "text"
      },
      "source": [
        "<a href=\"https://colab.research.google.com/github/NoobCoder6969/Challenge-Question/blob/main/Challenge_Question.ipynb\" target=\"_parent\"><img src=\"https://colab.research.google.com/assets/colab-badge.svg\" alt=\"Open In Colab\"/></a>"
      ]
    },
    {
      "cell_type": "markdown",
      "source": [
        "Write a python program to sort the list of heterogeneous data.  \n",
        "e.g.  \n",
        "\n",
        "L = [\"Ram\", 1, \"Shyam\", 2, \"Aman\", 3]\n",
        "\n",
        "print(L)\n",
        "\n",
        "L.sort()\n",
        "\n",
        "print(L)\n",
        "\n",
        "# Above code gives error. Correct it."
      ],
      "metadata": {
        "id": "rh7QiXjhtDhh"
      }
    },
    {
      "cell_type": "code",
      "execution_count": 13,
      "metadata": {
        "colab": {
          "base_uri": "https://localhost:8080/"
        },
        "id": "qrmgc60sssiO",
        "outputId": "b80cb6f3-4564-4672-ba6f-29cb6a1580f7"
      },
      "outputs": [
        {
          "output_type": "stream",
          "name": "stdout",
          "text": [
            "['Ram', 1, 'Shyam', 2, 'Aman', 3]\n",
            "[1, 2, 3, 'Aman', 'Ram', 'Shyam']\n"
          ]
        }
      ],
      "source": [
        "L = [\"Ram\", 1, \"Shyam\", 2, \"Aman\", 3]\n",
        "\n",
        "print(L)\n",
        "\n",
        "Names = [i for i in L if isinstance(i, str)]\n",
        "Numbers = [i for i in L if isinstance(i, int)]\n",
        "\n",
        "Names.sort()\n",
        "Numbers.sort()\n",
        "\n",
        "SortedList = Numbers + Names\n",
        "print(SortedList)"
      ]
    },
    {
      "cell_type": "code",
      "source": [
        "L = [\"Ram\", 1, \"Shyam\", 2, \"Aman\", 3]\n",
        "print(L)\n",
        "L = [str(i) for i in L]\n",
        "L.sort()\n",
        "print(L)\n",
        "\n",
        "L1 = []\n",
        "\n",
        "for i in L:\n",
        "  try:\n",
        "    L1.append(int(i))\n",
        "  except ValueError:\n",
        "    L1.append(i)\n",
        "\n",
        "print(L1)"
      ],
      "metadata": {
        "colab": {
          "base_uri": "https://localhost:8080/"
        },
        "id": "94yzRexQvSkA",
        "outputId": "ea7976bf-8f0b-43dd-852d-5558f399ff2d"
      },
      "execution_count": 14,
      "outputs": [
        {
          "output_type": "stream",
          "name": "stdout",
          "text": [
            "['Ram', 1, 'Shyam', 2, 'Aman', 3]\n",
            "['1', '2', '3', 'Aman', 'Ram', 'Shyam']\n",
            "[1, 2, 3, 'Aman', 'Ram', 'Shyam']\n"
          ]
        }
      ]
    }
  ]
}